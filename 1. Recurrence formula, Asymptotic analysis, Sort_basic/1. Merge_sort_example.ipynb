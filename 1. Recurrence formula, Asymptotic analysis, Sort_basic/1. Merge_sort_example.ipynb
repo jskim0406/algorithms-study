{
 "cells": [
  {
   "cell_type": "markdown",
   "metadata": {},
   "source": [
    "# Big sorting\n",
    "\n",
    "- HackerRank (https://www.hackerrank.com/challenges/big-sorting/problem)\n",
    "- list 자료를 Merge_sort로 정렬할 예정"
   ]
  },
  {
   "cell_type": "markdown",
   "metadata": {},
   "source": [
    "### 1. Failure code (time limit)\n",
    "\n",
    "- Merge_sort를 통해 시도했지만, time limit 문제로 10case 중 5case 실패\n",
    "- Input size가 커서, 제일 안정적이고 시간복잡도가 낮은 merge_sort로 해봤지만, time-limit case가 절반이나 되었음\n",
    "\n",
    "- mergesort의 설계가 잘못된 것은 아닌듯 함\n",
    "- 그럼 무엇이 문제인 것일까"
   ]
  },
  {
   "cell_type": "code",
   "execution_count": 83,
   "metadata": {},
   "outputs": [
    {
     "name": "stdout",
     "output_type": "stream",
     "text": [
      "6\n",
      "4131421415\n",
      "1\n",
      "3\n",
      "5\n",
      "10\n",
      "3\n",
      "1\n",
      "3\n",
      "3\n",
      "5\n",
      "10\n",
      "4131421415\n"
     ]
    }
   ],
   "source": [
    "# Failure code\n",
    "\n",
    "# Divide and conquer(Merge_sort)\n",
    "# Divide 시작 : 절반으로 나눠 들어감(최소단위까지)\n",
    "def bigsorting(data):\n",
    "    # divide의 경계시점(재귀의 마지막 호출)\n",
    "    if len(data) <= 1:\n",
    "        return data\n",
    "\n",
    "    median = int(len(data)/2)\n",
    "\n",
    "    # Divide : 절반으로 나누는 재귀호출 반복\n",
    "    left = bigsorting(data[:median])\n",
    "    right = bigsorting(data[median:])\n",
    "    \n",
    "    # Conquer : merge\n",
    "    return merge(left,right)\n",
    "\n",
    "# Conquer 시작 : merge\n",
    "def merge(left,right):\n",
    "    \n",
    "    # merge는 대소비교하며 merge\n",
    "    sorted_ = list()\n",
    "    idx_left, idx_right = 0,0\n",
    "    \n",
    "    # 대소비교는 3가지의 경우로 나눔\n",
    "    # left와 right의 비교대상 index를 기준이 됨\n",
    "    while idx_left < len(left) and idx_right < len(right):\n",
    "        if left[idx_left] < right[idx_right]:\n",
    "            sorted_.append(left[idx_left])\n",
    "            idx_left += 1\n",
    "\n",
    "        else:\n",
    "            sorted_.append(right[idx_right])\n",
    "            idx_right += 1\n",
    "\n",
    "    while idx_left < len(left):\n",
    "        sorted_.append(left[idx_left])\n",
    "        idx_left += 1\n",
    "\n",
    "\n",
    "    while idx_right < len(right):\n",
    "        sorted_.append(right[idx_right])\n",
    "        idx_right += 1\n",
    "\n",
    "    return sorted_\n",
    "\n",
    "\n",
    "n = int(input())\n",
    "data = [int(input()) for _ in range(n)]\n",
    "result = bigsorting(data)\n",
    "\n",
    "\n",
    "for i in range(len(result)):\n",
    "    print(result[i])"
   ]
  },
  {
   "cell_type": "markdown",
   "metadata": {},
   "source": [
    "### 2. Suceess code\n",
    "\n",
    "- python의 내장함수 활용\n",
    "- python의 내장 정렬함수는 '팀정렬'이라는 방법을 사용한다고 함\n",
    "    - 팀 정렬 : https://d2.naver.com/helloworld/0315536\n",
    "- 퀵정렬은 본래 데이터가 정렬된 상태에 가까울 수록, 시간복잡도가 급격히 나빠진다는 단점\n",
    "- 팀정렬은 '삽입정렬 + 개선된 합병정렬' 조합한 알고리즘\n",
    "\n",
    "\n",
    "- sorted(data, key) 활용. \n",
    "**key = lambda x : (len(x), x)**\n"
   ]
  },
  {
   "cell_type": "markdown",
   "metadata": {},
   "source": [
    "### 2-1. Success의 다른 점\n",
    "\n",
    "#### 1. int형으로의 cast를 하지 않음\n",
    "    - failure : Input받고 casting시키며 시간 소요 많았음(str로 받아서 int로 casting(자료형 변환) 하는 데 시간 소요가 많이 든다고 함)\n",
    "    - success : Input은 그대로 str로 받아 casting 시간 소요 줄임\n",
    "    \n",
    "    \n",
    "#### 2. sorted 함수 사용 ( string타입의 숫자 비교 기준 이해 )\n",
    "    - success : sorted(data, key = lambda x : (len(x), x))\n",
    "    - string타입의 숫자 정렬 기준\n",
    "        - 1. len(x) : 길이로 우선 정렬해줌\n",
    "        - 2. x : 그 후, 그 자체의 비교 (string타입의 문자는 사전순, string타입의 숫자는 오름차순으로 자체 비교함)\n",
    "            - 단, len(x)로 먼저 정렬 안하면, 밑의 'case 1'과 같은 상황이 발생하니, 꼭 길이로 우선 정렬 조건 설정할 것"
   ]
  },
  {
   "cell_type": "code",
   "execution_count": 94,
   "metadata": {},
   "outputs": [
    {
     "data": {
      "text/plain": [
       "['1', '1234', '2']"
      ]
     },
     "execution_count": 94,
     "metadata": {},
     "output_type": "execute_result"
    }
   ],
   "source": [
    "# case 1\n",
    "a = ['1234','2','1']\n",
    "b = sorted(a, key = lambda x : x)\n",
    "b"
   ]
  },
  {
   "cell_type": "code",
   "execution_count": 95,
   "metadata": {},
   "outputs": [
    {
     "data": {
      "text/plain": [
       "['1', '2', '1234']"
      ]
     },
     "execution_count": 95,
     "metadata": {},
     "output_type": "execute_result"
    }
   ],
   "source": [
    "# case 2 \n",
    "c = sorted(a,key = lambda x : (len(x),x))\n",
    "c"
   ]
  },
  {
   "cell_type": "code",
   "execution_count": null,
   "metadata": {},
   "outputs": [],
   "source": [
    "# Success code\n",
    "\n",
    "n = int(input())\n",
    "data = [input() for _ in range(n)]\n",
    "data = sorted(data,key=lambda x: (len(x), x))\n",
    "\n",
    "for i in data:\n",
    "    print(i)"
   ]
  },
  {
   "cell_type": "markdown",
   "metadata": {},
   "source": [
    "### 3. sorted 와 sort의 이해\n",
    "\n",
    "- sorted : 원본 데이터의 변경 X, 정렬된 리스트 반환\n",
    "- sort : 원본 데이터 변경 O, 반환 없음\n",
    "\n"
   ]
  },
  {
   "cell_type": "markdown",
   "metadata": {},
   "source": [
    "### 4. sort, sorted 함수의 key 파라미터 이해\n",
    "- key 는 정렬 조건의 customize !\n",
    "\n",
    "**단일 조건**\n",
    "\n",
    "    - sorted(data, key = len) : data를 길이 순으로 정렬해라\n",
    "    - sorted(data, key = lambda x : x.score() ) : data를 성적순으로 정렬해라 \n",
    "        *x.score ==> data의 성적을 출력, 값을 받으면 sorted에서는 값을 오름차순으로 정렬 함\n",
    "        \n",
    "**복수 조건 : key = (첫 조건, 둘 조건)**\n",
    "\n",
    "\n",
    "    - sorted(data, key = (len(x), x)) : 길이 순으로 우선 정렬, 그 후 오름차순(대소비교(숫자) or 사전순(문자))"
   ]
  }
 ],
 "metadata": {
  "kernelspec": {
   "display_name": "Python 3",
   "language": "python",
   "name": "python3"
  },
  "language_info": {
   "codemirror_mode": {
    "name": "ipython",
    "version": 3
   },
   "file_extension": ".py",
   "mimetype": "text/x-python",
   "name": "python",
   "nbconvert_exporter": "python",
   "pygments_lexer": "ipython3",
   "version": "3.7.4"
  }
 },
 "nbformat": 4,
 "nbformat_minor": 4
}
